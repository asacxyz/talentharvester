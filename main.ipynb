{
 "cells": [
  {
   "cell_type": "code",
   "execution_count": 1,
   "id": "472bb273-ae65-4661-8657-2c81b67eb68d",
   "metadata": {},
   "outputs": [],
   "source": [
    "# declarations, credentials etc (todo: move sensitive stuff to somewhere safe)\n",
    "\n",
    "position = \"backend developer\"\n",
    "username = \"\"\n",
    "password = \"\""
   ]
  },
  {
   "cell_type": "code",
   "execution_count": 2,
   "id": "90796411-f5fa-40c0-a3a5-24cab6f1004a",
   "metadata": {},
   "outputs": [],
   "source": [
    "from selenium import webdriver\n",
    "from selenium.webdriver.common.keys import Keys\n",
    "from selenium.webdriver.common.by import By\n",
    "import time"
   ]
  },
  {
   "cell_type": "code",
   "execution_count": 3,
   "id": "510f85bc-8eb9-4ca6-bf98-69d6b1bbd044",
   "metadata": {},
   "outputs": [],
   "source": [
    "driver = webdriver.Chrome()"
   ]
  },
  {
   "cell_type": "code",
   "execution_count": 4,
   "id": "62d0a528-9068-4ca5-bcb5-5b7e8ada7a1c",
   "metadata": {},
   "outputs": [
    {
     "name": "stdout",
     "output_type": "stream",
     "text": [
      "LinkedIn Login, Sign in | LinkedIn\n"
     ]
    }
   ],
   "source": [
    "driver.get(\"https://www.linkedin.com/search/results/people/?keywords=\" + position + \"&origin=CLUSTER_EXPANSION\")"
   ]
  },
  {
   "cell_type": "code",
   "execution_count": 5,
   "id": "50fa700c-cf8a-400b-a538-3dbc30ae9121",
   "metadata": {},
   "outputs": [],
   "source": [
    "# login\n",
    "\n",
    "username_field = driver.find_element(By.ID, \"username\")\n",
    "password_field = driver.find_element(By.ID, \"password\")\n",
    "\n",
    "username_field.send_keys(username)\n",
    "password_field.send_keys(password)\n",
    "\n",
    "password_field.send_keys(Keys.RETURN)\n",
    "\n",
    "time.sleep(7)"
   ]
  },
  {
   "cell_type": "code",
   "execution_count": 6,
   "id": "19b86d95-fe3b-47a9-9444-9f12d8bdf135",
   "metadata": {},
   "outputs": [],
   "source": [
    "# search_box = driver.find_element(By.XPATH, \"//input[contains(@placeholder, 'Pesquisar')]\")\n",
    "# search_box.send_keys(position)\n",
    "# search_box.send_keys(Keys.RETURN)\n",
    "# time.sleep(7)"
   ]
  }
 ],
 "metadata": {
  "kernelspec": {
   "display_name": "Python 3 (ipykernel)",
   "language": "python",
   "name": "python3"
  },
  "language_info": {
   "codemirror_mode": {
    "name": "ipython",
    "version": 3
   },
   "file_extension": ".py",
   "mimetype": "text/x-python",
   "name": "python",
   "nbconvert_exporter": "python",
   "pygments_lexer": "ipython3",
   "version": "3.12.7"
  }
 },
 "nbformat": 4,
 "nbformat_minor": 5
}
