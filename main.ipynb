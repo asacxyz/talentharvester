{
 "cells": [
  {
   "cell_type": "code",
   "execution_count": null,
   "id": "472bb273-ae65-4661-8657-2c81b67eb68d",
   "metadata": {},
   "outputs": [],
   "source": [
    "position = \"backend developer\"\n",
    "\n",
    "username = \"\"\n",
    "password = \"\""
   ]
  },
  {
   "cell_type": "code",
   "execution_count": 2,
   "id": "90796411-f5fa-40c0-a3a5-24cab6f1004a",
   "metadata": {},
   "outputs": [],
   "source": [
    "from selenium import webdriver\n",
    "from selenium.webdriver.common.keys import Keys\n",
    "from selenium.webdriver.common.by import By\n",
    "\n",
    "import pandas as pd\n",
    "import time"
   ]
  },
  {
   "cell_type": "code",
   "execution_count": 3,
   "id": "510f85bc-8eb9-4ca6-bf98-69d6b1bbd044",
   "metadata": {},
   "outputs": [],
   "source": [
    "driver = webdriver.Chrome()"
   ]
  },
  {
   "cell_type": "code",
   "execution_count": 4,
   "id": "62d0a528-9068-4ca5-bcb5-5b7e8ada7a1c",
   "metadata": {},
   "outputs": [],
   "source": [
    "driver.get(\"https://www.linkedin.com/search/results/people/?keywords=\" + position + \"&origin=CLUSTER_EXPANSION\")"
   ]
  },
  {
   "cell_type": "code",
   "execution_count": 5,
   "id": "50fa700c-cf8a-400b-a538-3dbc30ae9121",
   "metadata": {},
   "outputs": [],
   "source": [
    "# login\n",
    "\n",
    "username_field = driver.find_element(By.ID, \"username\")\n",
    "password_field = driver.find_element(By.ID, \"password\")\n",
    "\n",
    "username_field.send_keys(username)\n",
    "password_field.send_keys(password)\n",
    "\n",
    "password_field.send_keys(Keys.RETURN)\n",
    "\n",
    "time.sleep(20)"
   ]
  },
  {
   "cell_type": "code",
   "execution_count": 6,
   "id": "da76b446-24d7-4ca3-b29e-ae249cfae55f",
   "metadata": {},
   "outputs": [],
   "source": [
    "data = []\n",
    "\n",
    "for i in range(0,100):\n",
    "    li_elements = driver.find_elements(By.XPATH, \"//li[contains(@class, 'YUBcwBlqqBmXczScfXoFpeSemtmtujpkvA')]\")\n",
    "\n",
    "    for li_element in li_elements:\n",
    "        name = li_element.find_element(By.XPATH, \".//span[contains(@class, 'xakCsJhpsKVeHqgCmDFqWQANdZWzILQRvoE')]\").text\n",
    "        \n",
    "        try:\n",
    "            position = li_element.find_element(By.XPATH, \".//div[contains(@class, 'entexCjAJDndfntldYDWOBvCHoUxSfRHlHZg')]\").text\n",
    "        except:\n",
    "            position = \"Position not specified.\"\n",
    "\n",
    "        try:\n",
    "            location = li_element.find_element(By.XPATH, \".//div[contains(@class, 'ixhHHFPOfvCvqzBuDYkCdttGwBwLuBXTfNmOg')]\").text\n",
    "        except:\n",
    "            location = \"Location not specified.\"\n",
    "\n",
    "        data.append([name, position, location])\n",
    "\n",
    "    try:\n",
    "        button = driver.find_element(By.XPATH, \"//button[@aria-label='Avançar']\")\n",
    "        button.click()\n",
    "        time.sleep(2)\n",
    "    except:\n",
    "        print('End of navigation.')"
   ]
  },
  {
   "cell_type": "code",
   "execution_count": 7,
   "id": "05513afd-804c-4038-b930-461eeea22a66",
   "metadata": {},
   "outputs": [],
   "source": [
    "df = pd.DataFrame(data, columns=['Name', 'Position', 'Location'])\n",
    "df.to_excel(\"harvest.xlsx\", index=False)"
   ]
  }
 ],
 "metadata": {
  "kernelspec": {
   "display_name": "Python 3 (ipykernel)",
   "language": "python",
   "name": "python3"
  },
  "language_info": {
   "codemirror_mode": {
    "name": "ipython",
    "version": 3
   },
   "file_extension": ".py",
   "mimetype": "text/x-python",
   "name": "python",
   "nbconvert_exporter": "python",
   "pygments_lexer": "ipython3",
   "version": "3.12.7"
  }
 },
 "nbformat": 4,
 "nbformat_minor": 5
}
